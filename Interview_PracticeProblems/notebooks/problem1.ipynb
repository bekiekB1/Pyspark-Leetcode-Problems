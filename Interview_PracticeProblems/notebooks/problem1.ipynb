{
 "cells": [
  {
   "cell_type": "code",
   "execution_count": 12,
   "id": "2284bccd-4cc3-4492-81d1-17e345ee3cd6",
   "metadata": {},
   "outputs": [],
   "source": [
    "import pyspark\n",
    "from pyspark.sql import SparkSession\n",
    "from pyspark.sql import functions as F, Window as W"
   ]
  },
  {
   "cell_type": "markdown",
   "id": "097ea0ba-9283-41ed-a00d-b77946b772b9",
   "metadata": {},
   "source": [
    "Problem Statement:\n",
    "\n",
    "We are given a table called ```customer_state_log``` containing the following columns:\n",
    "\n",
    "* ```cust_id```: The ID of the customer.\n",
    "* ```state```: The state of the session, where 1 indicates the session is active and 0 indicates the session has ended.\n",
    "* ```timestamp```: The timestamp when the state change occurred.\n",
    "\n",
    "Our task is to calculate **how many hours each user was active during the day based on the state transitions**.\n",
    "\n",
    "Source: https://medium.com/data-engineer-things/amazon-pyspark-interview-question-hard-level-761872156497"
   ]
  },
  {
   "cell_type": "markdown",
   "id": "5c0aeb98-06d0-4620-b27c-30a3427b7fdc",
   "metadata": {},
   "source": [
    "Fullcode"
   ]
  },
  {
   "cell_type": "code",
   "execution_count": 25,
   "id": "9c2d5624-c208-400a-b8f4-2c2b4fe6d981",
   "metadata": {},
   "outputs": [
    {
     "name": "stdout",
     "output_type": "stream",
     "text": [
      "+-------+------------------+\n",
      "|cust_id|total_active_hours|\n",
      "+-------+------------------+\n",
      "|   c001|               5.0|\n",
      "|   c002|               4.5|\n",
      "|   c003|               1.5|\n",
      "|   c004|               2.0|\n",
      "|   c005|               7.5|\n",
      "+-------+------------------+\n",
      "\n"
     ]
    }
   ],
   "source": [
    "\n",
    "import pyspark\n",
    "from pyspark.sql import SparkSession\n",
    "from pyspark.sql import functions as F, Window as W\n",
    "\n",
    "spark = SparkSession.builder \\\n",
    "    .master(\"local[*]\") \\\n",
    "    .appName('Customer Session Analysis') \\\n",
    "    .getOrCreate()\n",
    "\n",
    "data = [\n",
    "    ('c001', 1, '07:00:00'),\n",
    "    ('c001', 0, '09:30:00'),\n",
    "    ('c001', 1, '12:00:00'),\n",
    "    ('c001', 0, '14:30:00'),\n",
    "    ('c002', 1, '08:00:00'),\n",
    "    ('c002', 0, '09:30:00'),\n",
    "    ('c002', 1, '11:00:00'),\n",
    "    ('c002', 0, '12:30:00'),\n",
    "    ('c002', 1, '15:00:00'),\n",
    "    ('c002', 0, '16:30:00'),\n",
    "    ('c003', 1, '09:00:00'),\n",
    "    ('c003', 0, '10:30:00'),\n",
    "    ('c004', 1, '10:00:00'),\n",
    "    ('c004', 0, '10:30:00'),\n",
    "    ('c004', 1, '14:00:00'),\n",
    "    ('c004', 0, '15:30:00'),\n",
    "    ('c005', 1, '10:00:00'),\n",
    "    ('c005', 0, '14:30:00'),\n",
    "    ('c005', 1, '15:30:00'),\n",
    "    ('c005', 0, '18:30:00')\n",
    "]\n",
    "\n",
    "columns = [\"cust_id\", \"state\", \"timestamp\"]\n",
    "df = spark.createDataFrame(data, columns)\n",
    "\n",
    "\n",
    "# Convert Timestamp String to Proper Spark DataType\n",
    "df = df.withColumn(\n",
    "    'timestamp',\n",
    "    F.to_timestamp('timestamp', 'HH:mm:ss')\n",
    ")\n",
    "\n",
    "\n",
    "# Use window function(later followed by lead) to get next timestamp when session ends for each row \n",
    "window_spec = (\n",
    "    W.partitionBy('cust_id')\n",
    "    .orderBy('timestamp')\n",
    ")\n",
    "\n",
    "\n",
    "# Calculate session durations for active states\n",
    "# Diffence between current and next timestamp, Session is switched from active to not active\n",
    "df_active_sessions = (\n",
    "    df\n",
    "    .withColumn(\n",
    "        'next_timestamp', \n",
    "        F.lead('timestamp').over(window_spec)\n",
    "    )\n",
    "    .filter(\n",
    "        F.col('state') == 1\n",
    "    )\n",
    "    .withColumn(\n",
    "        'duration_hours',\n",
    "        F.when(\n",
    "            F.col('next_timestamp').isNotNull(),\n",
    "            F.round(\n",
    "                (F.unix_timestamp('next_timestamp') - \n",
    "                 F.unix_timestamp('timestamp')) / 3600, \n",
    "                2\n",
    "            )\n",
    "        )\n",
    "    )\n",
    ")\n",
    "\n",
    "\n",
    "# Calculate total hours per customer id\n",
    "result = (\n",
    "    df_active_sessions\n",
    "    .groupBy('cust_id')\n",
    "    .agg(\n",
    "        F.sum('duration_hours').alias('total_active_hours')\n",
    "    )\n",
    "    .orderBy('cust_id')\n",
    ")\n",
    "\n",
    "result.show()"
   ]
  },
  {
   "cell_type": "markdown",
   "id": "5fc44958-b9a0-4e46-9754-75315929089a",
   "metadata": {},
   "source": [
    "Code BreakDown"
   ]
  },
  {
   "cell_type": "code",
   "execution_count": 13,
   "id": "4e794f2a-b268-490b-adc7-86ab2a1c9015",
   "metadata": {},
   "outputs": [],
   "source": [
    "spark = SparkSession.builder \\\n",
    "    .master(\"local[*]\") \\\n",
    "    .appName('Customer Session Analysis') \\\n",
    "    .getOrCreate()"
   ]
  },
  {
   "cell_type": "code",
   "execution_count": 14,
   "id": "ceb28262-639e-4018-932a-9b000ab914d6",
   "metadata": {},
   "outputs": [],
   "source": [
    "data = [\n",
    "    ('c001', 1, '07:00:00'),\n",
    "    ('c001', 0, '09:30:00'),\n",
    "    ('c001', 1, '12:00:00'),\n",
    "    ('c001', 0, '14:30:00'),\n",
    "    ('c002', 1, '08:00:00'),\n",
    "    ('c002', 0, '09:30:00'),\n",
    "    ('c002', 1, '11:00:00'),\n",
    "    ('c002', 0, '12:30:00'),\n",
    "    ('c002', 1, '15:00:00'),\n",
    "    ('c002', 0, '16:30:00'),\n",
    "    ('c003', 1, '09:00:00'),\n",
    "    ('c003', 0, '10:30:00'),\n",
    "    ('c004', 1, '10:00:00'),\n",
    "    ('c004', 0, '10:30:00'),\n",
    "    ('c004', 1, '14:00:00'),\n",
    "    ('c004', 0, '15:30:00'),\n",
    "    ('c005', 1, '10:00:00'),\n",
    "    ('c005', 0, '14:30:00'),\n",
    "    ('c005', 1, '15:30:00'),\n",
    "    ('c005', 0, '18:30:00')\n",
    "]\n",
    "\n",
    "columns = [\"cust_id\", \"state\", \"timestamp\"]\n",
    "df = spark.createDataFrame(data, columns)"
   ]
  },
  {
   "cell_type": "code",
   "execution_count": 15,
   "id": "7424a23e-9df4-4e16-9ac8-2c09b57a0c08",
   "metadata": {},
   "outputs": [],
   "source": [
    "# Convert Timestamp String to Proper Spark DataType\n",
    "df = df.withColumn(\n",
    "    'timestamp',\n",
    "    F.to_timestamp('timestamp', 'HH:mm:ss')\n",
    ")"
   ]
  },
  {
   "cell_type": "code",
   "execution_count": 16,
   "id": "8c843e63-44d9-4b24-9d0f-f13dccc7ac0d",
   "metadata": {},
   "outputs": [],
   "source": [
    "# Use window function(later followed by lead) to get next timestamp when session ends for each row \n",
    "window_spec = (\n",
    "    W.partitionBy('cust_id')\n",
    "    .orderBy('timestamp')\n",
    ")"
   ]
  },
  {
   "cell_type": "code",
   "execution_count": 22,
   "id": "541e1094-5ad6-41a2-9e0e-1be80d4f285e",
   "metadata": {},
   "outputs": [
    {
     "name": "stdout",
     "output_type": "stream",
     "text": [
      "+-------+-----+-------------------+-------------------+\n",
      "|cust_id|state|          timestamp|     next_timestamp|\n",
      "+-------+-----+-------------------+-------------------+\n",
      "|   c001|    1|1970-01-01 07:00:00|1970-01-01 09:30:00|\n",
      "|   c001|    0|1970-01-01 09:30:00|1970-01-01 12:00:00|\n",
      "|   c001|    1|1970-01-01 12:00:00|1970-01-01 14:30:00|\n",
      "|   c001|    0|1970-01-01 14:30:00|               NULL|\n",
      "|   c002|    1|1970-01-01 08:00:00|1970-01-01 09:30:00|\n",
      "|   c002|    0|1970-01-01 09:30:00|1970-01-01 11:00:00|\n",
      "|   c002|    1|1970-01-01 11:00:00|1970-01-01 12:30:00|\n",
      "|   c002|    0|1970-01-01 12:30:00|1970-01-01 15:00:00|\n",
      "|   c002|    1|1970-01-01 15:00:00|1970-01-01 16:30:00|\n",
      "|   c002|    0|1970-01-01 16:30:00|               NULL|\n",
      "|   c003|    1|1970-01-01 09:00:00|1970-01-01 10:30:00|\n",
      "|   c003|    0|1970-01-01 10:30:00|               NULL|\n",
      "|   c004|    1|1970-01-01 10:00:00|1970-01-01 10:30:00|\n",
      "|   c004|    0|1970-01-01 10:30:00|1970-01-01 14:00:00|\n",
      "|   c004|    1|1970-01-01 14:00:00|1970-01-01 15:30:00|\n",
      "|   c004|    0|1970-01-01 15:30:00|               NULL|\n",
      "|   c005|    1|1970-01-01 10:00:00|1970-01-01 14:30:00|\n",
      "|   c005|    0|1970-01-01 14:30:00|1970-01-01 15:30:00|\n",
      "|   c005|    1|1970-01-01 15:30:00|1970-01-01 18:30:00|\n",
      "|   c005|    0|1970-01-01 18:30:00|               NULL|\n",
      "+-------+-----+-------------------+-------------------+\n",
      "\n"
     ]
    }
   ],
   "source": [
    "df.withColumn(\n",
    "        'next_timestamp', \n",
    "        F.lead('timestamp').over(window_spec)\n",
    "    ).show()"
   ]
  },
  {
   "cell_type": "code",
   "execution_count": 17,
   "id": "880cc1a7-03da-4362-8a6f-9f7e4e82fdbd",
   "metadata": {},
   "outputs": [],
   "source": [
    "# Calculate session durations for active states\n",
    "# Diffence between current and next timestamp, Session is switched from active to not active\n",
    "df_active_sessions = (\n",
    "    df\n",
    "    .withColumn(\n",
    "        'next_timestamp', \n",
    "        F.lead('timestamp').over(window_spec)\n",
    "    )\n",
    "    .filter(\n",
    "        F.col('state') == 1\n",
    "    )\n",
    "    .withColumn(\n",
    "        'duration_hours',\n",
    "        F.when(\n",
    "            F.col('next_timestamp').isNotNull(),\n",
    "            F.round(\n",
    "                (F.unix_timestamp('next_timestamp') - \n",
    "                 F.unix_timestamp('timestamp')) / 3600, \n",
    "                2\n",
    "            )\n",
    "        )\n",
    "    )\n",
    ")"
   ]
  },
  {
   "cell_type": "code",
   "execution_count": 19,
   "id": "e4ad4997-93f2-4473-b455-445c021f35e4",
   "metadata": {},
   "outputs": [
    {
     "name": "stdout",
     "output_type": "stream",
     "text": [
      "+-------+-----+-------------------+-------------------+--------------+\n",
      "|cust_id|state|          timestamp|     next_timestamp|duration_hours|\n",
      "+-------+-----+-------------------+-------------------+--------------+\n",
      "|   c001|    1|1970-01-01 07:00:00|1970-01-01 09:30:00|           2.5|\n",
      "|   c001|    1|1970-01-01 12:00:00|1970-01-01 14:30:00|           2.5|\n",
      "|   c002|    1|1970-01-01 08:00:00|1970-01-01 09:30:00|           1.5|\n",
      "|   c002|    1|1970-01-01 11:00:00|1970-01-01 12:30:00|           1.5|\n",
      "|   c002|    1|1970-01-01 15:00:00|1970-01-01 16:30:00|           1.5|\n",
      "|   c003|    1|1970-01-01 09:00:00|1970-01-01 10:30:00|           1.5|\n",
      "|   c004|    1|1970-01-01 10:00:00|1970-01-01 10:30:00|           0.5|\n",
      "|   c004|    1|1970-01-01 14:00:00|1970-01-01 15:30:00|           1.5|\n",
      "|   c005|    1|1970-01-01 10:00:00|1970-01-01 14:30:00|           4.5|\n",
      "|   c005|    1|1970-01-01 15:30:00|1970-01-01 18:30:00|           3.0|\n",
      "+-------+-----+-------------------+-------------------+--------------+\n",
      "\n"
     ]
    }
   ],
   "source": [
    "df_active_sessions.show()"
   ]
  },
  {
   "cell_type": "code",
   "execution_count": 23,
   "id": "5e95f8eb-c05d-402d-87b5-fd7380bfc720",
   "metadata": {},
   "outputs": [],
   "source": [
    "# Calculate total hours per customer id\n",
    "result = (\n",
    "    df_active_sessions\n",
    "    .groupBy('cust_id')\n",
    "    .agg(\n",
    "        F.sum('duration_hours').alias('total_active_hours')\n",
    "    )\n",
    "    .orderBy('cust_id')\n",
    ")"
   ]
  },
  {
   "cell_type": "code",
   "execution_count": 24,
   "id": "27382abf-3913-41d0-b60e-ef829091df07",
   "metadata": {},
   "outputs": [
    {
     "name": "stdout",
     "output_type": "stream",
     "text": [
      "+-------+------------------+\n",
      "|cust_id|total_active_hours|\n",
      "+-------+------------------+\n",
      "|   c001|               5.0|\n",
      "|   c002|               4.5|\n",
      "|   c003|               1.5|\n",
      "|   c004|               2.0|\n",
      "|   c005|               7.5|\n",
      "+-------+------------------+\n",
      "\n"
     ]
    }
   ],
   "source": [
    "result.show()"
   ]
  },
  {
   "cell_type": "code",
   "execution_count": null,
   "id": "e6d41049-48a0-4595-8b27-bb736cff38eb",
   "metadata": {},
   "outputs": [],
   "source": []
  }
 ],
 "metadata": {
  "kernelspec": {
   "display_name": "Python 3 (ipykernel)",
   "language": "python",
   "name": "python3"
  },
  "language_info": {
   "codemirror_mode": {
    "name": "ipython",
    "version": 3
   },
   "file_extension": ".py",
   "mimetype": "text/x-python",
   "name": "python",
   "nbconvert_exporter": "python",
   "pygments_lexer": "ipython3",
   "version": "3.11.6"
  }
 },
 "nbformat": 4,
 "nbformat_minor": 5
}
