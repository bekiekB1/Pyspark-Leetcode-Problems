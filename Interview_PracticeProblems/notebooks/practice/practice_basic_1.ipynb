{
 "cells": [
  {
   "cell_type": "code",
   "execution_count": 1,
   "id": "bbe71b76-405e-4b2b-aad9-fdb020ac7299",
   "metadata": {},
   "outputs": [],
   "source": [
    "from pyspark.sql import SparkSession\n",
    "from pyspark.sql import functions as F, Window as W\n",
    "from pyspark.sql.types import *"
   ]
  },
  {
   "cell_type": "code",
   "execution_count": 2,
   "id": "830438b8-3200-4cf4-8b26-33406cb3f369",
   "metadata": {},
   "outputs": [],
   "source": [
    "spark = SparkSession.builder \\\n",
    "    .master(\"local[*]\") \\\n",
    "    .appName(\"Comprehensive PySpark Practice\") \\\n",
    "    .getOrCreate()"
   ]
  },
  {
   "cell_type": "markdown",
   "id": "20725617-5f2c-46ff-8221-419e2976da60",
   "metadata": {},
   "source": [
    "Sample Data"
   ]
  },
  {
   "cell_type": "code",
   "execution_count": 3,
   "id": "d7c1089b-1a41-48b4-b8e1-4a389beaeddf",
   "metadata": {},
   "outputs": [],
   "source": [
    "employee_data = [\n",
    "    (1, \"John\", \"Sales\", 50000, \"2020-01-15\", \"NY\", None, 100),\n",
    "    (2, \"Jane\", \"Engineering\", None, \"2021-02-20\", \"CA\", \"T2\", 150),\n",
    "    (3, \"Bob\", \"Sales\", 55000, \"2019-03-10\", None, \"T1\", 120),\n",
    "    (4, \"Alice\", \"Engineering\", 65000, \"2022-04-05\", \"CA\", \"T2\", None),\n",
    "    (5, \"Charlie\", None, 75000, \"2018-05-01\", \"NY\", \"T3\", 200)\n",
    "]\n",
    "\n",
    "sales_data = [\n",
    "    (1, \"2023-01-01\", 100, \"2023-Q1\", \"A\"),\n",
    "    (1, \"2023-01-02\", 150, \"2023-Q1\", \"B\"),\n",
    "    (2, \"2023-01-01\", 200, \"2023-Q1\", \"A\"),\n",
    "    (2, \"2023-01-02\", None, \"2023-Q1\", \"C\"),\n",
    "    (3, \"2023-01-03\", 300, \"2023-Q1\", None)\n",
    "]"
   ]
  },
  {
   "cell_type": "markdown",
   "id": "9a578936-aff0-43c2-a9f1-2a2ad07d0687",
   "metadata": {},
   "source": [
    "Create DataFrames"
   ]
  },
  {
   "cell_type": "code",
   "execution_count": 4,
   "id": "e751b27c-9b6b-4619-870c-d035879f90d2",
   "metadata": {},
   "outputs": [],
   "source": [
    "df_emp = spark.createDataFrame(\n",
    "    employee_data, \n",
    "    [\"emp_id\", \"name\", \"dept\", \"salary\", \"hire_date\", \"state\", \"team\", \"score\"]\n",
    ")\n",
    "\n",
    "df_sales = spark.createDataFrame(\n",
    "    sales_data,\n",
    "    [\"emp_id\", \"sale_date\", \"amount\", \"quarter\", \"product\"]\n",
    ")"
   ]
  },
  {
   "cell_type": "markdown",
   "id": "12dbf729-3990-44df-80e1-dc9b74382c5f",
   "metadata": {},
   "source": [
    "Problem 1: Handling Null Values\n",
    "Problem\n",
    "\n",
    "Clean employee data by handling missing values with appropriate defaults:\n",
    "\n",
    "    Fill missing department values with \"Unassigned\".\n",
    "    Replace missing salaries with the department's average salary.\n",
    "    Assign \"Unknown\" to missing states.\n",
    "    Default missing scores to 0.\n",
    "\n",
    "Solution\n",
    "\n",
    "Use coalesce, window functions for averages, and default literals for missing data."
   ]
  },
  {
   "cell_type": "code",
   "execution_count": 30,
   "id": "ae3a64c2-1298-4af3-b0b1-75f9e7d36fc8",
   "metadata": {},
   "outputs": [
    {
     "name": "stdout",
     "output_type": "stream",
     "text": [
      "+------+-------+-----------+------+----------+-----+----+-----+\n",
      "|emp_id|   name|       dept|salary| hire_date|state|team|score|\n",
      "+------+-------+-----------+------+----------+-----+----+-----+\n",
      "|     1|   John|      Sales| 50000|2020-01-15|   NY|NULL|  100|\n",
      "|     2|   Jane|Engineering|  NULL|2021-02-20|   CA|  T2|  150|\n",
      "|     3|    Bob|      Sales| 55000|2019-03-10| NULL|  T1|  120|\n",
      "|     4|  Alice|Engineering| 65000|2022-04-05|   CA|  T2| NULL|\n",
      "|     5|Charlie|       NULL| 75000|2018-05-01|   NY|  T3|  200|\n",
      "+------+-------+-----------+------+----------+-----+----+-----+\n",
      "\n"
     ]
    }
   ],
   "source": [
    "# df_emp.show()"
   ]
  },
  {
   "cell_type": "code",
   "execution_count": 14,
   "id": "43b603f3-4317-4a06-b66a-e70fb130ee36",
   "metadata": {},
   "outputs": [],
   "source": [
    "dept_window = W.partitionBy(\"dept\").orderBy(\"emp_id\")\n",
    "\n",
    "df_emp = (\n",
    "    df_emp\n",
    "    .withColumn(\n",
    "        \"dept\", \n",
    "        F.coalesce(\"dept\", F.lit(\"Unassigned\"))\n",
    "    )\n",
    "    .withColumn(\n",
    "        \"salary\", \n",
    "        F.coalesce(\n",
    "            \"salary\", \n",
    "            F.avg(\"salary\").over(dept_window))\n",
    "    )\n",
    "    .withColumn(\n",
    "        \"state\", \n",
    "        F.coalesce(\"state\", F.lit(\"Unknown\"))\n",
    "    )\n",
    "    .withColumn(\n",
    "        \"score\", \n",
    "        F.coalesce(\"score\", F.lit(0))\n",
    "    )\n",
    "    .withColumn(\n",
    "        \"team\", \n",
    "        F.coalesce(\"team\", F.lit(\"Unknown\"))\n",
    "    )\n",
    ")"
   ]
  },
  {
   "cell_type": "code",
   "execution_count": 15,
   "id": "2e11d1cb-fa96-482f-bf3c-03b537a0fae4",
   "metadata": {},
   "outputs": [
    {
     "name": "stdout",
     "output_type": "stream",
     "text": [
      "+------+-------+-----------+-------+----------+-------+-------+-----+\n",
      "|emp_id|   name|       dept| salary| hire_date|  state|   team|score|\n",
      "+------+-------+-----------+-------+----------+-------+-------+-----+\n",
      "|     2|   Jane|Engineering|65000.0|2021-02-20|     CA|     T2|  150|\n",
      "|     4|  Alice|Engineering|65000.0|2022-04-05|     CA|     T2|    0|\n",
      "|     1|   John|      Sales|50000.0|2020-01-15|     NY|Unknown|  100|\n",
      "|     3|    Bob|      Sales|55000.0|2019-03-10|Unknown|     T1|  120|\n",
      "|     5|Charlie| Unassigned|75000.0|2018-05-01|     NY|     T3|  200|\n",
      "+------+-------+-----------+-------+----------+-------+-------+-----+\n",
      "\n"
     ]
    }
   ],
   "source": [
    "df_emp.show()"
   ]
  },
  {
   "cell_type": "markdown",
   "id": "4f61409e-13ea-4ebc-8e40-857539737f9b",
   "metadata": {},
   "source": [
    "Problem 2: Window Functions\n",
    "Problem\n",
    "\n",
    "Calculate various metrics using window functions:\n",
    "\n",
    "    Rank salaries within departments.\n",
    "    Calculate running totals.\n",
    "    Find differences with the next and previous salary.\n",
    "\n",
    "Solution\n",
    "\n",
    "Use rank, sum, lead, and lag functions within a defined window."
   ]
  },
  {
   "cell_type": "code",
   "execution_count": 22,
   "id": "7ecadb66-f07f-4ea6-a7da-9fee839422a5",
   "metadata": {},
   "outputs": [],
   "source": [
    "df_emp = (\n",
    "    df_emp\n",
    "    .withColumn(\"salary_rank\", F.rank().over(dept_window))\n",
    "    .withColumn(\"running_total\", F.sum(\"salary\").over(dept_window.rowsBetween(W.unboundedPreceding, W.currentRow)))\n",
    "    .withColumn(\"next_salary\", F.lead(\"salary\", 1).over(dept_window))\n",
    "    .withColumn(\"prev_salary\", F.lag(\"salary\", 1).over(dept_window))\n",
    ")"
   ]
  },
  {
   "cell_type": "code",
   "execution_count": 23,
   "id": "1ce065dd-3f58-4285-b60d-67824e3f5333",
   "metadata": {},
   "outputs": [
    {
     "name": "stdout",
     "output_type": "stream",
     "text": [
      "+------+-------+-----------+-------+----------+-------+-------+-----+-----------+-------------+-----------+-----------+\n",
      "|emp_id|   name|       dept| salary| hire_date|  state|   team|score|salary_rank|running_total|next_salary|prev_salary|\n",
      "+------+-------+-----------+-------+----------+-------+-------+-----+-----------+-------------+-----------+-----------+\n",
      "|     2|   Jane|Engineering|65000.0|2021-02-20|     CA|     T2|  150|          1|      65000.0|    65000.0|       NULL|\n",
      "|     4|  Alice|Engineering|65000.0|2022-04-05|     CA|     T2|    0|          2|     130000.0|       NULL|    65000.0|\n",
      "|     1|   John|      Sales|50000.0|2020-01-15|     NY|Unknown|  100|          1|      50000.0|    55000.0|       NULL|\n",
      "|     3|    Bob|      Sales|55000.0|2019-03-10|Unknown|     T1|  120|          2|     105000.0|       NULL|    50000.0|\n",
      "|     5|Charlie| Unassigned|75000.0|2018-05-01|     NY|     T3|  200|          1|      75000.0|       NULL|       NULL|\n",
      "+------+-------+-----------+-------+----------+-------+-------+-----+-----------+-------------+-----------+-----------+\n",
      "\n"
     ]
    }
   ],
   "source": [
    "df_emp.show()"
   ]
  },
  {
   "cell_type": "code",
   "execution_count": 24,
   "id": "faceeb4a-dc60-405c-b12a-fff4230f2c7d",
   "metadata": {},
   "outputs": [
    {
     "name": "stdout",
     "output_type": "stream",
     "text": [
      "+------+----------+------+-------+-------+\n",
      "|emp_id| sale_date|amount|quarter|product|\n",
      "+------+----------+------+-------+-------+\n",
      "|     1|2023-01-01|   100|2023-Q1|      A|\n",
      "|     1|2023-01-02|   150|2023-Q1|      B|\n",
      "|     2|2023-01-01|   200|2023-Q1|      A|\n",
      "|     2|2023-01-02|  NULL|2023-Q1|      C|\n",
      "|     3|2023-01-03|   300|2023-Q1|   NULL|\n",
      "+------+----------+------+-------+-------+\n",
      "\n"
     ]
    }
   ],
   "source": [
    "df_sales.show()"
   ]
  },
  {
   "cell_type": "code",
   "execution_count": 25,
   "id": "0183a9cd-f147-44ec-8b31-11ce3ddb4395",
   "metadata": {},
   "outputs": [],
   "source": [
    "pivoted = df_sales.groupBy(\"emp_id\").pivot(\"quarter\").agg(F.sum(\"amount\"))\n"
   ]
  },
  {
   "cell_type": "code",
   "execution_count": 26,
   "id": "28a71874-84b1-4fc1-bedf-0496041bdf33",
   "metadata": {},
   "outputs": [
    {
     "name": "stdout",
     "output_type": "stream",
     "text": [
      "+------+-------+\n",
      "|emp_id|2023-Q1|\n",
      "+------+-------+\n",
      "|     1|    250|\n",
      "|     3|    300|\n",
      "|     2|    200|\n",
      "+------+-------+\n",
      "\n"
     ]
    }
   ],
   "source": [
    "pivoted.show()"
   ]
  },
  {
   "cell_type": "code",
   "execution_count": null,
   "id": "7106cd73-92e2-4287-9d8f-91c8f99a25ce",
   "metadata": {},
   "outputs": [],
   "source": []
  }
 ],
 "metadata": {
  "kernelspec": {
   "display_name": "Python 3 (ipykernel)",
   "language": "python",
   "name": "python3"
  },
  "language_info": {
   "codemirror_mode": {
    "name": "ipython",
    "version": 3
   },
   "file_extension": ".py",
   "mimetype": "text/x-python",
   "name": "python",
   "nbconvert_exporter": "python",
   "pygments_lexer": "ipython3",
   "version": "3.11.6"
  }
 },
 "nbformat": 4,
 "nbformat_minor": 5
}
